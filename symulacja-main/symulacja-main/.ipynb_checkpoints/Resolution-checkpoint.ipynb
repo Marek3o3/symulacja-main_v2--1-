{
 "cells": [
  {
   "cell_type": "code",
   "execution_count": null,
   "metadata": {},
   "outputs": [],
   "source": [
    "import math\n",
    "import numpy as np"
   ]
  },
  {
   "cell_type": "code",
   "execution_count": null,
   "metadata": {},
   "outputs": [],
   "source": [
    "def compute_fov(swath_width, orbit_height):\n",
    "    fov_rad = 2 * np.arctan(swath_width / (2 * orbit_height))\n",
    "    fov_deg = np.degrees(fov_rad)\n",
    "    \n",
    "    return fov_deg"
   ]
  },
  {
   "cell_type": "code",
   "execution_count": null,
   "metadata": {},
   "outputs": [],
   "source": [
    "def compute_swath_width(fov_deg, orbit_height):\n",
    "    fov_rad = np.radians(fov_deg)\n",
    "    swath_width = 2 * orbit_height * np.tan(fov_rad / 2)\n",
    "    \n",
    "    return swath_width"
   ]
  },
  {
   "cell_type": "code",
   "execution_count": null,
   "metadata": {},
   "outputs": [],
   "source": [
    "def compute_image_size(swath_width, resolution, channels, bit_depth):\n",
    "    pixel_side = swath_width / resolution\n",
    "    total_pixels = pixel_side ** 2\n",
    "    total_bits = total_pixels * channels * bit_depth\n",
    "    \n",
    "    total_bytes = total_bits / 8\n",
    "    total_MB = (total_bytes / 1024) / 1024\n",
    "    \n",
    "    return {\n",
    "        \"pixel_side\": pixel_side,\n",
    "        \"total_pixels\": total_pixels,\n",
    "        \"channels\": channels,\n",
    "        \"bit_depth\": bit_depth,\n",
    "        \"total_bits\": total_bits,\n",
    "        \"total_bytes\": total_bytes,\n",
    "        \"total_MB\": total_MB\n",
    "    }"
   ]
  },
  {
   "cell_type": "code",
   "execution_count": null,
   "metadata": {},
   "outputs": [],
   "source": [
    "def print_image_info(info):\n",
    "    print(f\"Liczba pikseli na boku obrazu: {int(info['pixel_side'])} px\")\n",
    "    print(f\"Całkowita liczba pikseli: {int(info['total_pixels']):,} px\")\n",
    "    print(f\"Liczba kanałów: {info['channels']}\")\n",
    "    print(f\"Głębokość bitowa: {info['bit_depth']} bit/px\")\n",
    "    print(f\"Całkowita liczba bitów: {info['total_bits']:,.0f} bitów\")\n",
    "    print(f\"Rozmiar zdjęcia: {info['total_bytes']:,.0f} bajtów (~ {info['total_MB']:.2f} MB)\")"
   ]
  },
  {
   "cell_type": "markdown",
   "metadata": {},
   "source": [
    "<h2>WorldView-3</h2>"
   ]
  },
  {
   "cell_type": "code",
   "execution_count": null,
   "metadata": {},
   "outputs": [],
   "source": [
    "orbit_height_wv3 = 617 # km\n",
    "swath_width_wv3 = 13.1 # km\n",
    "\n",
    "fov_wv3 = compute_fov(swath_width_wv3, orbit_height_wv3)\n",
    "print(f\"Kąt widzenia (FOV) dla WorldView-3: {fov_wv3:.2f}°\")"
   ]
  },
  {
   "cell_type": "code",
   "execution_count": null,
   "metadata": {},
   "outputs": [],
   "source": [
    "swath_width_image_wv3 = 13100  # m\n",
    "mode = \"p\"  # tryb: \"p\" - panchromatyczny, \"m\" - multispektralny\n",
    "\n",
    "if mode == \"p\":\n",
    "    resolution = 1 # m/px\n",
    "    channels = 1\n",
    "    bit_depth = 11\n",
    "elif mode == \"m\":\n",
    "    resolution = 1.24 # m/px\n",
    "    channels = 8\n",
    "    bit_depth = 14\n",
    "else:\n",
    "    raise ValueError(\"Nieznany tryb obrazu!\")\n",
    "\n",
    "wv3_image_info = compute_image_size(swath_width_image_wv3, resolution, channels, bit_depth)\n",
    "print_image_info(wv3_image_info)"
   ]
  },
  {
   "cell_type": "markdown",
   "metadata": {},
   "source": [
    "<h2>GeoEye-1<h2>"
   ]
  },
  {
   "cell_type": "code",
   "execution_count": null,
   "metadata": {},
   "outputs": [],
   "source": [
    "orbit_height_geoeye = 681  # km\n",
    "swath_width_geoeye = 15.2  # km\n",
    "\n",
    "fov_geoeye = compute_fov(swath_width_geoeye, orbit_height_geoeye)\n",
    "print(f\"Kąt widzenia (FOV) dla GeoEye-1: {fov_geoeye:.2f}°\")"
   ]
  },
  {
   "cell_type": "code",
   "execution_count": null,
   "metadata": {},
   "outputs": [],
   "source": [
    "swath_width_geoeye = 15200 # m\n",
    "\n",
    "mode = \"p\"\n",
    "if mode == \"p\":\n",
    "    resolution = 1      # m/px\n",
    "    channels = 1\n",
    "    bit_depth = 11\n",
    "elif mode == \"m\":\n",
    "    resolution = 1.24   # m/px\n",
    "    channels = 8\n",
    "    bit_depth = 14\n",
    "\n",
    "geoeye_image_info = compute_image_size(swath_width_geoeye, resolution, channels, bit_depth)\n",
    "print_image_info(geoeye_image_info)"
   ]
  },
  {
   "cell_type": "markdown",
   "metadata": {},
   "source": [
    "<h2>MODIS<h2>"
   ]
  },
  {
   "cell_type": "code",
   "execution_count": null,
   "metadata": {},
   "outputs": [],
   "source": [
    "MODIS_ORBIT_HEIGHT = 705 # km\n",
    "MODIS_ORBIT_HEIGHT_UPDATED = 617 # km\n",
    "MODIS_SWATH_WIDTH = 2330 # km\n",
    "MODIS_FOV = 110\n",
    "MODIS_RESOLUTION = 250 # m/px\n",
    "MODIS_CHANNELS = 1\n",
    "MODIS_BIT_DEPTH = 12"
   ]
  },
  {
   "cell_type": "code",
   "execution_count": null,
   "metadata": {},
   "outputs": [],
   "source": [
    "MODIS_SWATH = compute_swath_width(MODIS_FOV, MODIS_ORBIT_HEIGHT_UPDATED)\n",
    "print(f\"Szerokość pokrycia (Swath width) dla MODIS: {MODIS_SWATH:.2f} km\")\n",
    "\n",
    "MODIS_SWATH_COVERAGE = 2330000 # m\n",
    "\n",
    "modis_image_info = compute_image_size(MODIS_SWATH*1000, MODIS_RESOLUTION, MODIS_CHANNELS, MODIS_BIT_DEPTH)\n",
    "print_image_info(modis_image_info)"
   ]
  }
 ],
 "metadata": {
  "kernelspec": {
   "display_name": "base",
   "language": "python",
   "name": "python3"
  },
  "language_info": {
   "codemirror_mode": {
    "name": "ipython",
    "version": 3
   },
   "file_extension": ".py",
   "mimetype": "text/x-python",
   "name": "python",
   "nbconvert_exporter": "python",
   "pygments_lexer": "ipython3",
   "version": "3.12.7"
  }
 },
 "nbformat": 4,
 "nbformat_minor": 2
}
