{
 "cells": [
  {
   "cell_type": "code",
   "execution_count": 12,
   "metadata": {},
   "outputs": [],
   "source": [
    "import math\n",
    "import numpy as np"
   ]
  },
  {
   "cell_type": "code",
   "execution_count": 13,
   "metadata": {},
   "outputs": [],
   "source": [
    "def compute_fov(swath_width, orbit_height):\n",
    "    fov_rad = 2 * np.arctan(swath_width / (2 * orbit_height))\n",
    "    fov_deg = np.degrees(fov_rad)\n",
    "    \n",
    "    return fov_deg"
   ]
  },
  {
   "cell_type": "code",
   "execution_count": 14,
   "metadata": {},
   "outputs": [],
   "source": [
    "def compute_swath_width(fov_deg, orbit_height):\n",
    "    fov_rad = np.radians(fov_deg)\n",
    "    swath_width = 2 * orbit_height * np.tan(fov_rad / 2)\n",
    "    \n",
    "    return swath_width"
   ]
  },
  {
   "cell_type": "code",
   "execution_count": 15,
   "metadata": {},
   "outputs": [],
   "source": [
    "def compute_image_size(swath_width, resolution, channels, bit_depth):\n",
    "    pixel_side = swath_width / resolution\n",
    "    total_pixels = pixel_side ** 2\n",
    "    total_bits = total_pixels * channels * bit_depth\n",
    "    \n",
    "    total_bytes = total_bits / 8\n",
    "    total_MB = (total_bytes / 1024) / 1024\n",
    "    \n",
    "    return {\n",
    "        \"pixel_side\": pixel_side,\n",
    "        \"total_pixels\": total_pixels,\n",
    "        \"channels\": channels,\n",
    "        \"bit_depth\": bit_depth,\n",
    "        \"total_bits\": total_bits,\n",
    "        \"total_bytes\": total_bytes,\n",
    "        \"total_MB\": total_MB\n",
    "    }"
   ]
  },
  {
   "cell_type": "code",
   "execution_count": 16,
   "metadata": {},
   "outputs": [],
   "source": [
    "def print_image_info(info):\n",
    "    print(f\"Liczba pikseli na boku obrazu: {int(info['pixel_side'])} px\")\n",
    "    print(f\"Całkowita liczba pikseli: {int(info['total_pixels']):,} px\")\n",
    "    print(f\"Liczba kanałów: {info['channels']}\")\n",
    "    print(f\"Głębokość bitowa: {info['bit_depth']} bit/px\")\n",
    "    print(f\"Całkowita liczba bitów: {info['total_bits']:,.0f} bitów\")\n",
    "    print(f\"Rozmiar zdjęcia: {info['total_bytes']:,.0f} bajtów (~ {info['total_MB']:.2f} MB)\")"
   ]
  },
  {
   "cell_type": "markdown",
   "metadata": {},
   "source": [
    "<h2>WorldView-3</h2>"
   ]
  },
  {
   "cell_type": "code",
   "execution_count": 17,
   "metadata": {},
   "outputs": [
    {
     "name": "stdout",
     "output_type": "stream",
     "text": [
      "Kąt widzenia (FOV) dla WorldView-3: 1.22°\n"
     ]
    }
   ],
   "source": [
    "orbit_height_wv3 = 617 # km\n",
    "swath_width_wv3 = 13.1 # km\n",
    "\n",
    "fov_wv3 = compute_fov(swath_width_wv3, orbit_height_wv3)\n",
    "print(f\"Kąt widzenia (FOV) dla WorldView-3: {fov_wv3:.2f}°\")"
   ]
  },
  {
   "cell_type": "code",
   "execution_count": 18,
   "metadata": {},
   "outputs": [
    {
     "name": "stdout",
     "output_type": "stream",
     "text": [
      "Liczba pikseli na boku obrazu: 13100 px\n",
      "Całkowita liczba pikseli: 171,610,000 px\n",
      "Liczba kanałów: 1\n",
      "Głębokość bitowa: 11 bit/px\n",
      "Całkowita liczba bitów: 1,887,710,000 bitów\n",
      "Rozmiar zdjęcia: 235,963,750 bajtów (~ 225.03 MB)\n"
     ]
    }
   ],
   "source": [
    "swath_width_image_wv3 = 13100  # m\n",
    "mode = \"p\"  # tryb: \"p\" - panchromatyczny, \"m\" - multispektralny\n",
    "\n",
    "if mode == \"p\":\n",
    "    resolution = 1 # m/px\n",
    "    channels = 1\n",
    "    bit_depth = 11\n",
    "elif mode == \"m\":\n",
    "    resolution = 1.24 # m/px\n",
    "    channels = 8\n",
    "    bit_depth = 14\n",
    "else:\n",
    "    raise ValueError(\"Nieznany tryb obrazu!\")\n",
    "\n",
    "wv3_image_info = compute_image_size(swath_width_image_wv3, resolution, channels, bit_depth)\n",
    "print_image_info(wv3_image_info)"
   ]
  },
  {
   "cell_type": "markdown",
   "metadata": {},
   "source": [
    "<h2>GeoEye-1<h2>"
   ]
  },
  {
   "cell_type": "code",
   "execution_count": 19,
   "metadata": {},
   "outputs": [
    {
     "name": "stdout",
     "output_type": "stream",
     "text": [
      "Kąt widzenia (FOV) dla GeoEye-1: 1.28°\n"
     ]
    }
   ],
   "source": [
    "orbit_height_geoeye = 681  # km\n",
    "swath_width_geoeye = 15.2  # km\n",
    "\n",
    "fov_geoeye = compute_fov(swath_width_geoeye, orbit_height_geoeye)\n",
    "print(f\"Kąt widzenia (FOV) dla GeoEye-1: {fov_geoeye:.2f}°\")"
   ]
  },
  {
   "cell_type": "code",
   "execution_count": 20,
   "metadata": {},
   "outputs": [
    {
     "name": "stdout",
     "output_type": "stream",
     "text": [
      "Liczba pikseli na boku obrazu: 15200 px\n",
      "Całkowita liczba pikseli: 231,040,000 px\n",
      "Liczba kanałów: 1\n",
      "Głębokość bitowa: 11 bit/px\n",
      "Całkowita liczba bitów: 2,541,440,000 bitów\n",
      "Rozmiar zdjęcia: 317,680,000 bajtów (~ 302.96 MB)\n"
     ]
    }
   ],
   "source": [
    "swath_width_geoeye = 15200 # m\n",
    "\n",
    "mode = \"p\"\n",
    "if mode == \"p\":\n",
    "    resolution = 1      # m/px\n",
    "    channels = 1\n",
    "    bit_depth = 11\n",
    "elif mode == \"m\":\n",
    "    resolution = 1.24   # m/px\n",
    "    channels = 8\n",
    "    bit_depth = 14\n",
    "\n",
    "geoeye_image_info = compute_image_size(swath_width_geoeye, resolution, channels, bit_depth)\n",
    "print_image_info(geoeye_image_info)"
   ]
  },
  {
   "cell_type": "markdown",
   "metadata": {},
   "source": [
    "<h2>MODIS<h2>"
   ]
  },
  {
   "cell_type": "code",
   "execution_count": 21,
   "metadata": {},
   "outputs": [],
   "source": [
    "MODIS_ORBIT_HEIGHT = 705 # km\n",
    "MODIS_ORBIT_HEIGHT_UPDATED = 617 # km\n",
    "MODIS_SWATH_WIDTH = 2330 # km\n",
    "MODIS_FOV = 110\n",
    "MODIS_RESOLUTION = 250 # m/px\n",
    "MODIS_CHANNELS = 1\n",
    "MODIS_BIT_DEPTH = 12"
   ]
  },
  {
   "cell_type": "code",
   "execution_count": 22,
   "metadata": {},
   "outputs": [
    {
     "name": "stdout",
     "output_type": "stream",
     "text": [
      "Szerokość pokrycia (Swath width) dla MODIS: 1762.33 km\n",
      "Liczba pikseli na boku obrazu: 7049 px\n",
      "Całkowita liczba pikseli: 49,693,174 px\n",
      "Liczba kanałów: 1\n",
      "Głębokość bitowa: 12 bit/px\n",
      "Całkowita liczba bitów: 596,318,090 bitów\n",
      "Rozmiar zdjęcia: 74,539,761 bajtów (~ 71.09 MB)\n"
     ]
    }
   ],
   "source": [
    "MODIS_SWATH = compute_swath_width(MODIS_FOV, MODIS_ORBIT_HEIGHT_UPDATED)\n",
    "print(f\"Szerokość pokrycia (Swath width) dla MODIS: {MODIS_SWATH:.2f} km\")\n",
    "\n",
    "MODIS_SWATH_COVERAGE = 2330000 # m\n",
    "\n",
    "modis_image_info = compute_image_size(MODIS_SWATH*1000, MODIS_RESOLUTION, MODIS_CHANNELS, MODIS_BIT_DEPTH)\n",
    "print_image_info(modis_image_info)"
   ]
  }
 ],
 "metadata": {
  "kernelspec": {
   "display_name": "Python 3 (ipykernel)",
   "language": "python",
   "name": "python3"
  },
  "language_info": {
   "codemirror_mode": {
    "name": "ipython",
    "version": 3
   },
   "file_extension": ".py",
   "mimetype": "text/x-python",
   "name": "python",
   "nbconvert_exporter": "python",
   "pygments_lexer": "ipython3",
   "version": "3.12.7"
  }
 },
 "nbformat": 4,
 "nbformat_minor": 4
}
